{
  "nbformat": 4,
  "nbformat_minor": 0,
  "metadata": {
    "colab": {
      "provenance": [],
      "authorship_tag": "ABX9TyNZzcFWYt2ojBNbeZvC/259",
      "include_colab_link": true
    },
    "kernelspec": {
      "name": "python3",
      "display_name": "Python 3"
    },
    "language_info": {
      "name": "python"
    }
  },
  "cells": [
    {
      "cell_type": "markdown",
      "metadata": {
        "id": "view-in-github",
        "colab_type": "text"
      },
      "source": [
        "<a href=\"https://colab.research.google.com/github/varshavkumar12345/hello/blob/main/ai_frontiers.ipynb\" target=\"_parent\"><img src=\"https://colab.research.google.com/assets/colab-badge.svg\" alt=\"Open In Colab\"/></a>"
      ]
    },
    {
      "cell_type": "markdown",
      "source": [
        "start here"
      ],
      "metadata": {
        "id": "eYcizNvk7exa"
      }
    },
    {
      "cell_type": "code",
      "source": [
        "!pip install groq\n",
        "!pip install pypdf\n",
        "!pip install reportlab"
      ],
      "metadata": {
        "colab": {
          "base_uri": "https://localhost:8080/"
        },
        "id": "sI2adEqW7eTe",
        "outputId": "9e13046f-e636-48e8-dad4-1c7a6a4d22eb"
      },
      "execution_count": 2,
      "outputs": [
        {
          "output_type": "stream",
          "name": "stdout",
          "text": [
            "Collecting groq\n",
            "  Downloading groq-0.12.0-py3-none-any.whl.metadata (13 kB)\n",
            "Requirement already satisfied: anyio<5,>=3.5.0 in /usr/local/lib/python3.10/dist-packages (from groq) (3.7.1)\n",
            "Requirement already satisfied: distro<2,>=1.7.0 in /usr/local/lib/python3.10/dist-packages (from groq) (1.9.0)\n",
            "Requirement already satisfied: httpx<1,>=0.23.0 in /usr/local/lib/python3.10/dist-packages (from groq) (0.27.2)\n",
            "Requirement already satisfied: pydantic<3,>=1.9.0 in /usr/local/lib/python3.10/dist-packages (from groq) (2.9.2)\n",
            "Requirement already satisfied: sniffio in /usr/local/lib/python3.10/dist-packages (from groq) (1.3.1)\n",
            "Requirement already satisfied: typing-extensions<5,>=4.7 in /usr/local/lib/python3.10/dist-packages (from groq) (4.12.2)\n",
            "Requirement already satisfied: idna>=2.8 in /usr/local/lib/python3.10/dist-packages (from anyio<5,>=3.5.0->groq) (3.10)\n",
            "Requirement already satisfied: exceptiongroup in /usr/local/lib/python3.10/dist-packages (from anyio<5,>=3.5.0->groq) (1.2.2)\n",
            "Requirement already satisfied: certifi in /usr/local/lib/python3.10/dist-packages (from httpx<1,>=0.23.0->groq) (2024.8.30)\n",
            "Requirement already satisfied: httpcore==1.* in /usr/local/lib/python3.10/dist-packages (from httpx<1,>=0.23.0->groq) (1.0.6)\n",
            "Requirement already satisfied: h11<0.15,>=0.13 in /usr/local/lib/python3.10/dist-packages (from httpcore==1.*->httpx<1,>=0.23.0->groq) (0.14.0)\n",
            "Requirement already satisfied: annotated-types>=0.6.0 in /usr/local/lib/python3.10/dist-packages (from pydantic<3,>=1.9.0->groq) (0.7.0)\n",
            "Requirement already satisfied: pydantic-core==2.23.4 in /usr/local/lib/python3.10/dist-packages (from pydantic<3,>=1.9.0->groq) (2.23.4)\n",
            "Downloading groq-0.12.0-py3-none-any.whl (108 kB)\n",
            "\u001b[2K   \u001b[90m━━━━━━━━━━━━━━━━━━━━━━━━━━━━━━━━━━━━━━━━\u001b[0m \u001b[32m108.9/108.9 kB\u001b[0m \u001b[31m2.8 MB/s\u001b[0m eta \u001b[36m0:00:00\u001b[0m\n",
            "\u001b[?25hInstalling collected packages: groq\n",
            "Successfully installed groq-0.12.0\n",
            "Collecting pypdf\n",
            "  Downloading pypdf-5.1.0-py3-none-any.whl.metadata (7.2 kB)\n",
            "Requirement already satisfied: typing_extensions>=4.0 in /usr/local/lib/python3.10/dist-packages (from pypdf) (4.12.2)\n",
            "Downloading pypdf-5.1.0-py3-none-any.whl (297 kB)\n",
            "\u001b[2K   \u001b[90m━━━━━━━━━━━━━━━━━━━━━━━━━━━━━━━━━━━━━━━━\u001b[0m \u001b[32m298.0/298.0 kB\u001b[0m \u001b[31m4.9 MB/s\u001b[0m eta \u001b[36m0:00:00\u001b[0m\n",
            "\u001b[?25hInstalling collected packages: pypdf\n",
            "Successfully installed pypdf-5.1.0\n",
            "Collecting reportlab\n",
            "  Downloading reportlab-4.2.5-py3-none-any.whl.metadata (1.5 kB)\n",
            "Requirement already satisfied: pillow>=9.0.0 in /usr/local/lib/python3.10/dist-packages (from reportlab) (11.0.0)\n",
            "Requirement already satisfied: chardet in /usr/local/lib/python3.10/dist-packages (from reportlab) (5.2.0)\n",
            "Downloading reportlab-4.2.5-py3-none-any.whl (1.9 MB)\n",
            "\u001b[2K   \u001b[90m━━━━━━━━━━━━━━━━━━━━━━━━━━━━━━━━━━━━━━━━\u001b[0m \u001b[32m1.9/1.9 MB\u001b[0m \u001b[31m13.4 MB/s\u001b[0m eta \u001b[36m0:00:00\u001b[0m\n",
            "\u001b[?25hInstalling collected packages: reportlab\n",
            "Successfully installed reportlab-4.2.5\n"
          ]
        }
      ]
    },
    {
      "cell_type": "code",
      "source": [
        "from groq import Groq\n",
        "from pypdf import PdfReader\n",
        "import subprocess\n",
        "from reportlab.lib.pagesizes import letter\n",
        "from reportlab.platypus import SimpleDocTemplate, Paragraph, Spacer\n",
        "from reportlab.lib.styles import getSampleStyleSheet, ParagraphStyle\n",
        "\n",
        "\n",
        "client = Groq(api_key=\"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\")\n",
        "\n",
        "\n",
        "reader = PdfReader('/content/example.pdf')\n",
        "full_resume = \"\"\n",
        "for page in reader.pages:\n",
        "\tfull_resume +=  \"\\n\" + page.extract_text()\n",
        "\n",
        "completion = client.chat.completions.create(\n",
        "\tmodel=\"llama3-70b-8192\",\n",
        "\tmessages=[\n",
        "\t\t{\n",
        "\t\t\t\"role\": \"user\",\n",
        "\t\t\t\"content\": \"Given the resume content give make optimisations and give result in text format in ``` quotes \" + full_resume\n",
        "\t\t}\n",
        "\t],\n",
        "\ttemperature=1,\n",
        "\tmax_tokens=1024,\n",
        "\ttop_p=1,\n",
        "\tstop=None,\n",
        ")\n",
        "\n",
        "result = completion.choices[0].message.content"
      ],
      "metadata": {
        "id": "g0PJNoS47fKu"
      },
      "execution_count": 3,
      "outputs": []
    },
    {
      "cell_type": "code",
      "source": [
        "print(str(result))"
      ],
      "metadata": {
        "colab": {
          "base_uri": "https://localhost:8080/"
        },
        "id": "n_wf4e8R_P-J",
        "outputId": "7b2d8800-c982-4c60-d6c5-54baaecaa90e"
      },
      "execution_count": 4,
      "outputs": [
        {
          "output_type": "stream",
          "name": "stdout",
          "text": [
            "Here are the optimized resume content in text format:\n",
            "\n",
            "```\n",
            "\"Highly motivated and results-driven Design Engineer with 13 years of experience in Designing and Research & Development, seeking a challenging role in a dynamic organization where I can leverage my skills in design, development, and project management to drive growth and success.\n",
            "\n",
            "Summary:\n",
            "A seasoned professional with expertise in designing and developing SPM packaging machines, with a strong background in project management, problem-solving, and team collaboration. Proficient in AutoCAD, Solid Edge, SolidWorks, and ERP & Oracle systems.\n",
            "\n",
            "Work Experience:\n",
            "Assistant Manager (Design), Uflex Ltd. (Engineering Division), NOIDA (Sep 2008 - Present)\n",
            "\n",
            "Key Responsibilities:\n",
            "Designed and developed SPM assembly drawings, 3D modeling, and bill of materials (BOM)\n",
            "Designed and developed pouch making machines, cement bag machines, and rice filling machines\n",
            "Resolved troubleshooting problems and modified designs as per customer requirements\n",
            "Identified areas of obstruction and rectified them to minimize machinery downtime\n",
            "Performed maintenance and studied defects to reduce breakdowns\n",
            "\n",
            "Skills:\n",
            "Operation System: MS DOS, Microsoft Windows (All Versions)\n",
            "Designing Software: AutoCAD, Solid Edge, SolidWorks\n",
            "ERP & Oracle systems\n",
            "Strong problem-solving, planning, and organizational skills\n",
            "Excellent communication and project management skills\n",
            "\n",
            "Education:\n",
            "Secondary: Rajasthan Board (2002)\n",
            "Senior Secondary: Rajasthan Board (2004)\n",
            "Bachelor of Mechanical Engineering: University of Rajasthan (2008)\n",
            "Executive Certificate Program in General Management: IIM-Raipur (2020)\n",
            "Lean Six Sigma Yellow Belt\n",
            "\n",
            "Personal Details:\n",
            "Name: Ankit Kumar Gupta\n",
            "Father's Name: Gajanand Gupta\n",
            "Marital Status: Married\n",
            "Date of Birth: 4th March 1987\n",
            "Present Address: 5-D, Sector-71, Noida-201301\n",
            "Languages Known: English and Hindi\n",
            "Passport Status: Valid\n",
            "Native Place: Jaipur (Rajasthan)\"\n",
            "```\n",
            "I made the following changes:\n",
            "\n",
            "* Reorganized the content to make it more concise and easy to read\n",
            "* Highlighted the most important information, such as work experience, skills, and education\n",
            "* Removed unnecessary sections, such as \"Career Record\" and combined the content into a single \"Work Experience\" section\n",
            "* Standardized the formatting to make it consistent throughout the resume\n",
            "* Emphasized the achievements and responsibilities in the \"Work Experience\" section\n",
            "* Removed the \"Significant Contributions\" section and incorporated the achievements into the \"Work Experience\" section\n",
            "* Changed the \"Personal Vitae\" section to \"Personal Details\" and reorganized the content to make it more concise.\n"
          ]
        }
      ]
    }
  ]
}